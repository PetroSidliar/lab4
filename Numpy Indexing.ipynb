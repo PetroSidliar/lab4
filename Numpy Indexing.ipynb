{
 "cells": [
  {
   "cell_type": "markdown",
   "metadata": {},
   "source": [
    "### Numpy Array Indexing"
   ]
  },
  {
   "cell_type": "code",
   "execution_count": 2,
   "metadata": {},
   "outputs": [],
   "source": [
    "import numpy as np"
   ]
  },
  {
   "cell_type": "markdown",
   "metadata": {},
   "source": [
    "### Andrii"
   ]
  },
  {
   "cell_type": "markdown",
   "metadata": {},
   "source": [
    "#### Replace NumPy array elements that doesn’t satisfy the given condition"
   ]
  },
  {
   "cell_type": "code",
   "execution_count": 42,
   "metadata": {},
   "outputs": [
    {
     "name": "stdout",
     "output_type": "stream",
     "text": [
      "Даний масив:\n",
      "[[45.42436315 52.48558583 10.32924763]\n",
      " [ 5.7439979  50.58220701 25.38213418]]\n",
      "Замінити всі елементи масиву, які більше 30. на 7.77 \n",
      "Новий масив:\n",
      "[[ 7.77        7.77       10.32924763]\n",
      " [ 5.7439979   7.77       25.38213418]]\n"
     ]
    }
   ],
   "source": [
    "n_arr = np.array([[45.42436315, 52.48558583, 10.32924763],\n",
    "[5.7439979, 50.58220701, 25.38213418]])\n",
    "print(\"Даний масив:\")\n",
    "print(n_arr)\n",
    "\n",
    "print(\"Замінити всі елементи масиву, які більше 30. на 7.77 \")\n",
    "n_arr[n_arr > 30.] = 7.77\n",
    "\n",
    "print(\"Новий масив:\")\n",
    "print(n_arr)"
   ]
  },
  {
   "cell_type": "markdown",
   "metadata": {},
   "source": [
    "#### Return the indices of elements where the given condition is satisfied"
   ]
  },
  {
   "cell_type": "code",
   "execution_count": 43,
   "metadata": {},
   "outputs": [
    {
     "name": "stdout",
     "output_type": "stream",
     "text": [
      "[[1 2 3]\n",
      " [4 5 6]]\n",
      "Індекси елементів менших 4 \n",
      "(array([0, 0, 0], dtype=int64), array([0, 1, 2], dtype=int64))\n",
      "Елементи, які є меншими за 4\n",
      "[1 2 3]\n"
     ]
    }
   ],
   "source": [
    "# a є масивом цілих чисел. \n",
    "a = np.array([[1, 2, 3], [4, 5, 6]])\n",
    "\n",
    "print(a)\n",
    "\n",
    "print ('Індекси елементів менших 4 ')\n",
    "\n",
    "b = np.where(a<4)\n",
    "print(b)\n",
    "\n",
    "print(\"Елементи, які є меншими за 4\")\n",
    "print(a[b])\n"
   ]
  },
  {
   "cell_type": "markdown",
   "metadata": {},
   "source": [
    "#### Replace NaN values with average of columns"
   ]
  },
  {
   "cell_type": "code",
   "execution_count": 46,
   "metadata": {},
   "outputs": [
    {
     "name": "stdout",
     "output_type": "stream",
     "text": [
      "початковий масив:\n",
      " [[1.3 2.5 3.6 nan]\n",
      " [2.6 3.3 nan 5.5]\n",
      " [2.1 3.2 5.4 6.5]]\n",
      "\n",
      "кінцевий масив:\n",
      " [[1.3 2.5 3.6 6. ]\n",
      " [2.6 3.3 4.5 5.5]\n",
      " [2.1 3.2 5.4 6.5]]\n"
     ]
    }
   ],
   "source": [
    "ini_array = np.array([[1.3, 2.5, 3.6, np.nan],\n",
    "[2.6, 3.3, np.nan, 5.5],\n",
    "[2.1, 3.2, 5.4, 6.5]])\n",
    "\n",
    "# друк початкового масиву.\n",
    "print (\"початковий масив:\\n\", ini_array)\n",
    "\n",
    "# заміна nan\n",
    "res = np.where(np.isnan(ini_array), np.ma.array(ini_array, \n",
    "mask = np.isnan(ini_array)).mean(axis = 0), ini_array)\n",
    "\n",
    "# друк кінцевого масиву.\n",
    "print (\"\\nкінцевий масив:\\n\", res)"
   ]
  },
  {
   "cell_type": "markdown",
   "metadata": {},
   "source": [
    "### Stas"
   ]
  },
  {
   "cell_type": "markdown",
   "metadata": {},
   "source": [
    "#### Replace negative value with zero in numpy array"
   ]
  },
  {
   "cell_type": "code",
   "execution_count": 22,
   "metadata": {},
   "outputs": [
    {
     "data": {
      "text/plain": [
       "array([1, 4, 0, 8, 0, 4, 0, 0])"
      ]
     },
     "execution_count": 22,
     "metadata": {},
     "output_type": "execute_result"
    }
   ],
   "source": [
    "arr=np.array([1,4,-7,8,-11,4,0,-47]) \n",
    "arr[arr<0]=0 \n",
    "arr "
   ]
  },
  {
   "cell_type": "markdown",
   "metadata": {},
   "source": [
    "#### How to get values of an NumPy array at certain index positions?"
   ]
  },
  {
   "cell_type": "code",
   "execution_count": 23,
   "metadata": {},
   "outputs": [
    {
     "data": {
      "text/plain": [
       "array([12,  2, 87,  4,  5, 45])"
      ]
     },
     "execution_count": 23,
     "metadata": {},
     "output_type": "execute_result"
    }
   ],
   "source": [
    "arr1=np.array([1,2,3,4,5,6]) \n",
    "arr2=np.array([12,87,45]) \n",
    "arr1.put([0,2,5],arr2) \n",
    "arr1"
   ]
  },
  {
   "cell_type": "markdown",
   "metadata": {},
   "source": [
    "#### Find indices of elements equal to zero in a NumPy array"
   ]
  },
  {
   "cell_type": "code",
   "execution_count": 16,
   "metadata": {},
   "outputs": [
    {
     "data": {
      "text/plain": [
       "[1, 3, 5, 6, 11]"
      ]
     },
     "execution_count": 16,
     "metadata": {},
     "output_type": "execute_result"
    }
   ],
   "source": [
    "example = np.array([1, 0, 2, 0, 3, 0, 0, \n",
    "                    5, 6, 7, 5, 0, 8])\n",
    "\n",
    "\n",
    "def zeroes(arr):    \n",
    "    res = []\n",
    "    for i in range(len(arr)):\n",
    "        if arr[i] == 0:\n",
    "            res.append(i) \n",
    "    return res\n",
    "\n",
    "zeroes(example)"
   ]
  },
  {
   "cell_type": "markdown",
   "metadata": {},
   "source": [
    "### Petro"
   ]
  },
  {
   "cell_type": "markdown",
   "metadata": {},
   "source": [
    "#### How to Remove columns in Numpy array that contains non-numeric values?"
   ]
  },
  {
   "cell_type": "code",
   "execution_count": 13,
   "metadata": {},
   "outputs": [
    {
     "data": {
      "text/plain": [
       "array([False, False, False])"
      ]
     },
     "execution_count": 13,
     "metadata": {},
     "output_type": "execute_result"
    }
   ],
   "source": [
    "example = np.array([[10.5, 22.5, np.nan],\n",
    "                  [41, 52.5, np.nan]])\n",
    "\n",
    "cols_filtered = np.isposinf(example).any(axis=0)\n",
    "cols_filtered\n",
    "# example[:, cols_filtered]"
   ]
  },
  {
   "cell_type": "markdown",
   "metadata": {},
   "source": [
    "#### How to access different rows of a multidimensional NumPy array?"
   ]
  },
  {
   "cell_type": "code",
   "execution_count": 19,
   "metadata": {},
   "outputs": [
    {
     "name": "stdout",
     "output_type": "stream",
     "text": [
      "arr=array([[101,  20,   3,  10],\n",
      "       [ 40,   5,  66,   7],\n",
      "       [ 70,  88,   9, 141]])\n",
      "Accessed rows:[40  5 66  7]\n"
     ]
    }
   ],
   "source": [
    "arr = np.array([[101, 20, 3, 10], \n",
    "                [40, 5, 66, 7], \n",
    "                [70, 88, 9, 141]])\n",
    "\n",
    "def access(rows):\n",
    "    print(f'{arr=}\\nAccessed rows:{arr[rows]}')\n",
    "    \n",
    "access(1)"
   ]
  },
  {
   "cell_type": "markdown",
   "metadata": {},
   "source": [
    "#### Get row numbers of NumPy array having element larger than X"
   ]
  },
  {
   "cell_type": "code",
   "execution_count": 39,
   "metadata": {},
   "outputs": [
    {
     "data": {
      "text/plain": [
       "array([[10, -3, 30,  4,  5],\n",
       "       [ 9,  7,  3,  6,  5]])"
      ]
     },
     "execution_count": 39,
     "metadata": {},
     "output_type": "execute_result"
    }
   ],
   "source": [
    "arr = np.array([[1, 2, 3, 4, 5],\n",
    "                  [10, -3, 30, 4, 5],\n",
    "                  [3, 2, 5, -4, 5],\n",
    "                  [9, 7, 3, 6, 5] \n",
    "                 ])\n",
    "\n",
    "def get_larger(value):\n",
    "    rows = (arr > value).any(axis=1)\n",
    "    return rows\n",
    "    \n",
    "arr[get_larger(6)]"
   ]
  },
  {
   "cell_type": "markdown",
   "metadata": {},
   "source": [
    "### Orest"
   ]
  },
  {
   "cell_type": "markdown",
   "metadata": {},
   "source": [
    "#### Get filled the diagonals of NumPy array"
   ]
  },
  {
   "cell_type": "code",
   "execution_count": 27,
   "metadata": {},
   "outputs": [
    {
     "name": "stdout",
     "output_type": "stream",
     "text": [
      "[[3 2]\n",
      " [2 3]]\n"
     ]
    }
   ],
   "source": [
    "arr = np.array([[1, 2], [2, 1]])\n",
    "rows, cols = arr.shape\n",
    "\n",
    "\n",
    "def filler(arr, n):\n",
    "    for i in range(rows):\n",
    "        for j in range(cols):\n",
    "            if i == j:\n",
    "                arr[i][j] = n\n",
    "                \n",
    "filler(arr, 3)\n",
    "print(arr)"
   ]
  },
  {
   "cell_type": "markdown",
   "metadata": {},
   "source": [
    "#### Check elements present in the NumPy array"
   ]
  },
  {
   "cell_type": "code",
   "execution_count": null,
   "metadata": {},
   "outputs": [],
   "source": [
    "arr1 = np.array([[1, 2], [3, 4], [5,11]])\n",
    "arr2 = [1, 4, 6]\n",
    "arr = np.isin(arr1, arr2)\n",
    "arr"
   ]
  },
  {
   "cell_type": "markdown",
   "metadata": {},
   "source": [
    "#### Combined array index by index"
   ]
  },
  {
   "cell_type": "code",
   "execution_count": 40,
   "metadata": {},
   "outputs": [
    {
     "data": {
      "text/plain": [
       "array([[[ 1,  7],\n",
       "        [ 3,  9],\n",
       "        [ 5, 11]]])"
      ]
     },
     "execution_count": 40,
     "metadata": {},
     "output_type": "execute_result"
    }
   ],
   "source": [
    "arr1 = np.array([1, 3, 5])\n",
    "arr2 = np.array([7, 9, 11])\n",
    "arr = np.dstack((arr1, arr2))\n",
    "arr"
   ]
  },
  {
   "cell_type": "code",
   "execution_count": null,
   "metadata": {},
   "outputs": [],
   "source": []
  }
 ],
 "metadata": {
  "kernelspec": {
   "display_name": "Python 3",
   "language": "python",
   "name": "python3"
  },
  "language_info": {
   "codemirror_mode": {
    "name": "ipython",
    "version": 3
   },
   "file_extension": ".py",
   "mimetype": "text/x-python",
   "name": "python",
   "nbconvert_exporter": "python",
   "pygments_lexer": "ipython3",
   "version": "3.8.3"
  }
 },
 "nbformat": 4,
 "nbformat_minor": 4
}
